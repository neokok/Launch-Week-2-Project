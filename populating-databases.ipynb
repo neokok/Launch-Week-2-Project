{
 "cells": [
  {
   "cell_type": "markdown",
   "metadata": {
    "id": "KJyao4Hj3V_f"
   },
   "source": [
    "## THIS NOTEBOOK WILL NOT WORK IN GOOGLE COLAB!!! IT MUST BE RUN LOCALLY!!! You can download it as an .ipynb file and open that with Jupyter notebook/labs"
   ]
  },
  {
   "cell_type": "code",
   "execution_count": 122,
   "metadata": {},
   "outputs": [
    {
     "name": "stdout",
     "output_type": "stream",
     "text": [
      "Requirement already satisfied: pymysql in /Users/padmadanturty/opt/anaconda3/lib/python3.9/site-packages (1.1.1)\n",
      "Note: you may need to restart the kernel to use updated packages.\n"
     ]
    }
   ],
   "source": [
    "pip install pymysql"
   ]
  },
  {
   "cell_type": "code",
   "execution_count": 123,
   "metadata": {
    "colab": {
     "base_uri": "https://localhost:8080/",
     "height": 375
    },
    "id": "pL3MK37u3V_h",
    "outputId": "dc519631-bc91-4ea3-ca21-b1dbcf060b31"
   },
   "outputs": [],
   "source": [
    "import sqlalchemy\n",
    "import pymysql\n",
    "from sqlalchemy import create_engine\n",
    "import pandas as pd"
   ]
  },
  {
   "cell_type": "markdown",
   "metadata": {
    "id": "EXYCzm4f60Tt"
   },
   "source": [
    "If you get an error saying something like \"sqlalchemy not installed\", you should add a code cell and write `pip install sqlalchemy`. Then, rerun the above cell (you might also need to install pymysql the same way)"
   ]
  },
  {
   "cell_type": "code",
   "execution_count": 124,
   "metadata": {
    "id": "dQADRimI3V_j"
   },
   "outputs": [],
   "source": [
    "password = 'Warning//2000'\n",
    "db_name = 'music'"
   ]
  },
  {
   "cell_type": "code",
   "execution_count": 125,
   "metadata": {
    "id": "wkVFDxfq3V_j"
   },
   "outputs": [],
   "source": [
    "conn = pymysql.connect(host='127.0.0.1', port=3306, user='root', password=password, database=db_name)"
   ]
  },
  {
   "cell_type": "code",
   "execution_count": 126,
   "metadata": {
    "id": "8_4eHzso3V_j"
   },
   "outputs": [],
   "source": [
    "connection = create_engine(\"mysql+pymysql://root:\" + password + \"@localhost:3306/\" + db_name)"
   ]
  },
  {
   "cell_type": "code",
   "execution_count": 127,
   "metadata": {
    "colab": {
     "base_uri": "https://localhost:8080/",
     "height": 144
    },
    "id": "UUtddbLZ21do",
    "outputId": "e44ad0e7-bf11-4549-a7df-557c8b6d64b1"
   },
   "outputs": [],
   "source": [
    "songs = pd.read_csv('songs.csv')\n",
    "albums = pd.read_csv('albums.csv')\n",
    "artists = pd.read_csv('artists.csv')\n",
    "playlists = pd.read_csv('playlists.csv')\n",
    "users = pd.read_csv('users.csv')"
   ]
  },
  {
   "cell_type": "code",
   "execution_count": 128,
   "metadata": {
    "id": "5ktGrJYM28Zl"
   },
   "outputs": [],
   "source": [
    "table_name = 'songs'\n",
    "table_name1 = 'albums'\n",
    "table_name2 = 'artists'\n",
    "table_name3 = 'playlists'\n",
    "table_name4 = 'users'"
   ]
  },
  {
   "cell_type": "code",
   "execution_count": 129,
   "metadata": {
    "id": "1jna0HT821kQ"
   },
   "outputs": [
    {
     "data": {
      "text/plain": [
       "10"
      ]
     },
     "execution_count": 129,
     "metadata": {},
     "output_type": "execute_result"
    }
   ],
   "source": [
    "songs.to_sql(name=table_name, con=connection, if_exists='replace', index=False)\n",
    "albums.to_sql(name=table_name1, con=connection, if_exists='replace', index=False)\n",
    "artists.to_sql(name=table_name2, con=connection, if_exists='replace', index=False)\n",
    "playlists.to_sql(name=table_name3, con=connection, if_exists='replace', index=False)\n",
    "users.to_sql(name=table_name4, con=connection, if_exists='replace', index=False)"
   ]
  },
  {
   "cell_type": "markdown",
   "metadata": {
    "id": "aOmCA5gd5BiV"
   },
   "source": [
    "We use SQL syntax for querying. The triple quotation mark syntax allows us to write commands simiar to how we did in SQL"
   ]
  },
  {
   "cell_type": "code",
   "execution_count": 130,
   "metadata": {
    "id": "Jv7YkgW03V_m"
   },
   "outputs": [],
   "source": [
    "query1 = \"SELECT * FROM users\""
   ]
  },
  {
   "cell_type": "code",
   "execution_count": 131,
   "metadata": {},
   "outputs": [],
   "source": [
    "query2 = \"\"\"\n",
    "\n",
    "SELECT * FROM songs\n",
    "WHERE Artist_ID = 8\n",
    "\n",
    "\"\"\""
   ]
  },
  {
   "cell_type": "code",
   "execution_count": 132,
   "metadata": {
    "id": "GtcaW8xg3V_n"
   },
   "outputs": [],
   "source": [
    "result_df = pd.read_sql(query1, con=connection)"
   ]
  },
  {
   "cell_type": "code",
   "execution_count": 133,
   "metadata": {
    "id": "swupxQK03V_o"
   },
   "outputs": [
    {
     "data": {
      "text/html": [
       "<div>\n",
       "<style scoped>\n",
       "    .dataframe tbody tr th:only-of-type {\n",
       "        vertical-align: middle;\n",
       "    }\n",
       "\n",
       "    .dataframe tbody tr th {\n",
       "        vertical-align: top;\n",
       "    }\n",
       "\n",
       "    .dataframe thead th {\n",
       "        text-align: right;\n",
       "    }\n",
       "</style>\n",
       "<table border=\"1\" class=\"dataframe\">\n",
       "  <thead>\n",
       "    <tr style=\"text-align: right;\">\n",
       "      <th></th>\n",
       "      <th>Creator_ID</th>\n",
       "      <th>Username</th>\n",
       "      <th>Country</th>\n",
       "      <th>Top_Song_ID</th>\n",
       "      <th>Top_Album_ID</th>\n",
       "      <th>Top_Artist_ID</th>\n",
       "      <th>Best_friend_ID</th>\n",
       "    </tr>\n",
       "  </thead>\n",
       "  <tbody>\n",
       "    <tr>\n",
       "      <th>0</th>\n",
       "      <td>1</td>\n",
       "      <td>Blink21</td>\n",
       "      <td>USA</td>\n",
       "      <td>9.0</td>\n",
       "      <td>2.0</td>\n",
       "      <td>8.0</td>\n",
       "      <td>3.0</td>\n",
       "    </tr>\n",
       "    <tr>\n",
       "      <th>1</th>\n",
       "      <td>2</td>\n",
       "      <td>JaxWave</td>\n",
       "      <td>USA</td>\n",
       "      <td>NaN</td>\n",
       "      <td>NaN</td>\n",
       "      <td>NaN</td>\n",
       "      <td>4.0</td>\n",
       "    </tr>\n",
       "    <tr>\n",
       "      <th>2</th>\n",
       "      <td>3</td>\n",
       "      <td>LunaPix</td>\n",
       "      <td>Canada</td>\n",
       "      <td>16.0</td>\n",
       "      <td>9.0</td>\n",
       "      <td>2.0</td>\n",
       "      <td>6.0</td>\n",
       "    </tr>\n",
       "    <tr>\n",
       "      <th>3</th>\n",
       "      <td>4</td>\n",
       "      <td>ZorbX</td>\n",
       "      <td>USA</td>\n",
       "      <td>NaN</td>\n",
       "      <td>NaN</td>\n",
       "      <td>NaN</td>\n",
       "      <td>7.0</td>\n",
       "    </tr>\n",
       "    <tr>\n",
       "      <th>4</th>\n",
       "      <td>5</td>\n",
       "      <td>FizzDart</td>\n",
       "      <td>Mexico</td>\n",
       "      <td>34.0</td>\n",
       "      <td>2.0</td>\n",
       "      <td>6.0</td>\n",
       "      <td>NaN</td>\n",
       "    </tr>\n",
       "    <tr>\n",
       "      <th>5</th>\n",
       "      <td>6</td>\n",
       "      <td>QuikFox</td>\n",
       "      <td>Canada</td>\n",
       "      <td>9.0</td>\n",
       "      <td>2.0</td>\n",
       "      <td>8.0</td>\n",
       "      <td>3.0</td>\n",
       "    </tr>\n",
       "    <tr>\n",
       "      <th>6</th>\n",
       "      <td>7</td>\n",
       "      <td>HexRyn</td>\n",
       "      <td>Sweden</td>\n",
       "      <td>19.0</td>\n",
       "      <td>NaN</td>\n",
       "      <td>1.0</td>\n",
       "      <td>8.0</td>\n",
       "    </tr>\n",
       "    <tr>\n",
       "      <th>7</th>\n",
       "      <td>8</td>\n",
       "      <td>VimJet</td>\n",
       "      <td>Ireland</td>\n",
       "      <td>1.0</td>\n",
       "      <td>1.0</td>\n",
       "      <td>1.0</td>\n",
       "      <td>2.0</td>\n",
       "    </tr>\n",
       "    <tr>\n",
       "      <th>8</th>\n",
       "      <td>9</td>\n",
       "      <td>KyroM</td>\n",
       "      <td>USA</td>\n",
       "      <td>36.0</td>\n",
       "      <td>2.0</td>\n",
       "      <td>8.0</td>\n",
       "      <td>8.0</td>\n",
       "    </tr>\n",
       "    <tr>\n",
       "      <th>9</th>\n",
       "      <td>10</td>\n",
       "      <td>WispFiz</td>\n",
       "      <td>USA</td>\n",
       "      <td>54.0</td>\n",
       "      <td>11.0</td>\n",
       "      <td>15.0</td>\n",
       "      <td>6.0</td>\n",
       "    </tr>\n",
       "  </tbody>\n",
       "</table>\n",
       "</div>"
      ],
      "text/plain": [
       "   Creator_ID  Username  Country  Top_Song_ID  Top_Album_ID  Top_Artist_ID  \\\n",
       "0           1   Blink21      USA          9.0           2.0            8.0   \n",
       "1           2   JaxWave      USA          NaN           NaN            NaN   \n",
       "2           3   LunaPix   Canada         16.0           9.0            2.0   \n",
       "3           4     ZorbX      USA          NaN           NaN            NaN   \n",
       "4           5  FizzDart   Mexico         34.0           2.0            6.0   \n",
       "5           6   QuikFox   Canada          9.0           2.0            8.0   \n",
       "6           7    HexRyn   Sweden         19.0           NaN            1.0   \n",
       "7           8    VimJet  Ireland          1.0           1.0            1.0   \n",
       "8           9     KyroM      USA         36.0           2.0            8.0   \n",
       "9          10   WispFiz      USA         54.0          11.0           15.0   \n",
       "\n",
       "   Best_friend_ID  \n",
       "0             3.0  \n",
       "1             4.0  \n",
       "2             6.0  \n",
       "3             7.0  \n",
       "4             NaN  \n",
       "5             3.0  \n",
       "6             8.0  \n",
       "7             2.0  \n",
       "8             8.0  \n",
       "9             6.0  "
      ]
     },
     "execution_count": 133,
     "metadata": {},
     "output_type": "execute_result"
    }
   ],
   "source": [
    "result_df"
   ]
  },
  {
   "cell_type": "code",
   "execution_count": 134,
   "metadata": {
    "colab": {
     "base_uri": "https://localhost:8080/",
     "height": 166
    },
    "id": "fuG3zDfq3V_p",
    "outputId": "6c5de75f-f338-4942-e88c-5ad718b359d7"
   },
   "outputs": [],
   "source": [
    "result_df_2 = pd.read_sql(query2, con=connection)"
   ]
  },
  {
   "cell_type": "code",
   "execution_count": 135,
   "metadata": {
    "id": "aSNSGVG53V_q"
   },
   "outputs": [
    {
     "data": {
      "text/html": [
       "<div>\n",
       "<style scoped>\n",
       "    .dataframe tbody tr th:only-of-type {\n",
       "        vertical-align: middle;\n",
       "    }\n",
       "\n",
       "    .dataframe tbody tr th {\n",
       "        vertical-align: top;\n",
       "    }\n",
       "\n",
       "    .dataframe thead th {\n",
       "        text-align: right;\n",
       "    }\n",
       "</style>\n",
       "<table border=\"1\" class=\"dataframe\">\n",
       "  <thead>\n",
       "    <tr style=\"text-align: right;\">\n",
       "      <th></th>\n",
       "      <th>Song_ID</th>\n",
       "      <th>Title</th>\n",
       "      <th>Artist_ID</th>\n",
       "      <th>Album_ID</th>\n",
       "      <th>Playlist_ID</th>\n",
       "      <th>Genre</th>\n",
       "      <th>Rating</th>\n",
       "      <th>Duration</th>\n",
       "    </tr>\n",
       "  </thead>\n",
       "  <tbody>\n",
       "    <tr>\n",
       "      <th>0</th>\n",
       "      <td>9</td>\n",
       "      <td>Golden</td>\n",
       "      <td>8.0</td>\n",
       "      <td>2.0</td>\n",
       "      <td>1.0</td>\n",
       "      <td>Pop</td>\n",
       "      <td>7</td>\n",
       "      <td>3:50</td>\n",
       "    </tr>\n",
       "    <tr>\n",
       "      <th>1</th>\n",
       "      <td>10</td>\n",
       "      <td>Adore You</td>\n",
       "      <td>8.0</td>\n",
       "      <td>2.0</td>\n",
       "      <td>5.0</td>\n",
       "      <td>Pop</td>\n",
       "      <td>7</td>\n",
       "      <td>4:25</td>\n",
       "    </tr>\n",
       "    <tr>\n",
       "      <th>2</th>\n",
       "      <td>36</td>\n",
       "      <td>Watermelon Sugar</td>\n",
       "      <td>8.0</td>\n",
       "      <td>2.0</td>\n",
       "      <td>2.0</td>\n",
       "      <td>Pop</td>\n",
       "      <td>9</td>\n",
       "      <td>2:54</td>\n",
       "    </tr>\n",
       "    <tr>\n",
       "      <th>3</th>\n",
       "      <td>37</td>\n",
       "      <td>Sign of the Times</td>\n",
       "      <td>8.0</td>\n",
       "      <td>2.0</td>\n",
       "      <td>4.0</td>\n",
       "      <td>Rock</td>\n",
       "      <td>9</td>\n",
       "      <td>5:40</td>\n",
       "    </tr>\n",
       "    <tr>\n",
       "      <th>4</th>\n",
       "      <td>38</td>\n",
       "      <td>Adore You (Live)</td>\n",
       "      <td>8.0</td>\n",
       "      <td>2.0</td>\n",
       "      <td>3.0</td>\n",
       "      <td>Pop</td>\n",
       "      <td>8</td>\n",
       "      <td>3:27</td>\n",
       "    </tr>\n",
       "    <tr>\n",
       "      <th>5</th>\n",
       "      <td>39</td>\n",
       "      <td>Falling</td>\n",
       "      <td>8.0</td>\n",
       "      <td>2.0</td>\n",
       "      <td>7.0</td>\n",
       "      <td>Pop</td>\n",
       "      <td>8</td>\n",
       "      <td>4:00</td>\n",
       "    </tr>\n",
       "    <tr>\n",
       "      <th>6</th>\n",
       "      <td>40</td>\n",
       "      <td>Golden (Live)</td>\n",
       "      <td>8.0</td>\n",
       "      <td>2.0</td>\n",
       "      <td>1.0</td>\n",
       "      <td>Pop</td>\n",
       "      <td>8</td>\n",
       "      <td>3:28</td>\n",
       "    </tr>\n",
       "  </tbody>\n",
       "</table>\n",
       "</div>"
      ],
      "text/plain": [
       "   Song_ID              Title  Artist_ID  Album_ID  Playlist_ID Genre  Rating  \\\n",
       "0        9            Golden         8.0       2.0          1.0   Pop       7   \n",
       "1       10          Adore You        8.0       2.0          5.0   Pop       7   \n",
       "2       36   Watermelon Sugar        8.0       2.0          2.0   Pop       9   \n",
       "3       37  Sign of the Times        8.0       2.0          4.0  Rock       9   \n",
       "4       38   Adore You (Live)        8.0       2.0          3.0   Pop       8   \n",
       "5       39            Falling        8.0       2.0          7.0   Pop       8   \n",
       "6       40      Golden (Live)        8.0       2.0          1.0   Pop       8   \n",
       "\n",
       "  Duration  \n",
       "0     3:50  \n",
       "1     4:25  \n",
       "2     2:54  \n",
       "3     5:40  \n",
       "4     3:27  \n",
       "5     4:00  \n",
       "6     3:28  "
      ]
     },
     "execution_count": 135,
     "metadata": {},
     "output_type": "execute_result"
    }
   ],
   "source": [
    "result_df_2"
   ]
  },
  {
   "cell_type": "markdown",
   "metadata": {
    "id": "Qn9YhnFN485y"
   },
   "source": [
    "We can merge in PyMySQL just like in regular SQL"
   ]
  },
  {
   "cell_type": "code",
   "execution_count": 136,
   "metadata": {
    "id": "CvOM5zwm4796"
   },
   "outputs": [],
   "source": [
    "query3 = \"\"\"\n",
    "  SELECT users.Username, users.Country, songs.Title AS Fav_Song, songs.Genre\n",
    "  FROM users\n",
    "  LEFT JOIN songs ON users.Top_Song_ID = songs.Song_ID\n",
    "\"\"\""
   ]
  },
  {
   "cell_type": "code",
   "execution_count": 137,
   "metadata": {
    "id": "xyHRbQ3e56Lz"
   },
   "outputs": [],
   "source": [
    "result_df_3 = pd.read_sql(query3, con=connection)"
   ]
  },
  {
   "cell_type": "code",
   "execution_count": 138,
   "metadata": {
    "id": "bSX5T0U_57FW",
    "scrolled": true
   },
   "outputs": [
    {
     "data": {
      "text/html": [
       "<div>\n",
       "<style scoped>\n",
       "    .dataframe tbody tr th:only-of-type {\n",
       "        vertical-align: middle;\n",
       "    }\n",
       "\n",
       "    .dataframe tbody tr th {\n",
       "        vertical-align: top;\n",
       "    }\n",
       "\n",
       "    .dataframe thead th {\n",
       "        text-align: right;\n",
       "    }\n",
       "</style>\n",
       "<table border=\"1\" class=\"dataframe\">\n",
       "  <thead>\n",
       "    <tr style=\"text-align: right;\">\n",
       "      <th></th>\n",
       "      <th>Username</th>\n",
       "      <th>Country</th>\n",
       "      <th>Fav_Song</th>\n",
       "      <th>Genre</th>\n",
       "    </tr>\n",
       "  </thead>\n",
       "  <tbody>\n",
       "    <tr>\n",
       "      <th>0</th>\n",
       "      <td>Blink21</td>\n",
       "      <td>USA</td>\n",
       "      <td>Golden</td>\n",
       "      <td>Pop</td>\n",
       "    </tr>\n",
       "    <tr>\n",
       "      <th>1</th>\n",
       "      <td>JaxWave</td>\n",
       "      <td>USA</td>\n",
       "      <td>None</td>\n",
       "      <td>None</td>\n",
       "    </tr>\n",
       "    <tr>\n",
       "      <th>2</th>\n",
       "      <td>LunaPix</td>\n",
       "      <td>Canada</td>\n",
       "      <td>Two-Headed Boy</td>\n",
       "      <td>Indie</td>\n",
       "    </tr>\n",
       "    <tr>\n",
       "      <th>3</th>\n",
       "      <td>ZorbX</td>\n",
       "      <td>USA</td>\n",
       "      <td>None</td>\n",
       "      <td>None</td>\n",
       "    </tr>\n",
       "    <tr>\n",
       "      <th>4</th>\n",
       "      <td>FizzDart</td>\n",
       "      <td>Mexico</td>\n",
       "      <td>My Worst Enemy</td>\n",
       "      <td>Pop</td>\n",
       "    </tr>\n",
       "    <tr>\n",
       "      <th>5</th>\n",
       "      <td>QuikFox</td>\n",
       "      <td>Canada</td>\n",
       "      <td>Golden</td>\n",
       "      <td>Pop</td>\n",
       "    </tr>\n",
       "    <tr>\n",
       "      <th>6</th>\n",
       "      <td>HexRyn</td>\n",
       "      <td>Sweden</td>\n",
       "      <td>Vampire</td>\n",
       "      <td>Pop</td>\n",
       "    </tr>\n",
       "    <tr>\n",
       "      <th>7</th>\n",
       "      <td>VimJet</td>\n",
       "      <td>Ireland</td>\n",
       "      <td>Happier</td>\n",
       "      <td>Pop</td>\n",
       "    </tr>\n",
       "    <tr>\n",
       "      <th>8</th>\n",
       "      <td>KyroM</td>\n",
       "      <td>USA</td>\n",
       "      <td>Watermelon Sugar</td>\n",
       "      <td>Pop</td>\n",
       "    </tr>\n",
       "    <tr>\n",
       "      <th>9</th>\n",
       "      <td>WispFiz</td>\n",
       "      <td>USA</td>\n",
       "      <td>Stuck In The Middle</td>\n",
       "      <td>Pop</td>\n",
       "    </tr>\n",
       "  </tbody>\n",
       "</table>\n",
       "</div>"
      ],
      "text/plain": [
       "   Username  Country             Fav_Song  Genre\n",
       "0   Blink21      USA              Golden     Pop\n",
       "1   JaxWave      USA                 None   None\n",
       "2   LunaPix   Canada       Two-Headed Boy  Indie\n",
       "3     ZorbX      USA                 None   None\n",
       "4  FizzDart   Mexico       My Worst Enemy    Pop\n",
       "5   QuikFox   Canada              Golden     Pop\n",
       "6    HexRyn   Sweden              Vampire    Pop\n",
       "7    VimJet  Ireland              Happier    Pop\n",
       "8     KyroM      USA     Watermelon Sugar    Pop\n",
       "9   WispFiz      USA  Stuck In The Middle    Pop"
      ]
     },
     "execution_count": 138,
     "metadata": {},
     "output_type": "execute_result"
    }
   ],
   "source": [
    "result_df_3"
   ]
  },
  {
   "cell_type": "code",
   "execution_count": 139,
   "metadata": {},
   "outputs": [],
   "source": [
    "###MONGO"
   ]
  },
  {
   "cell_type": "code",
   "execution_count": 140,
   "metadata": {},
   "outputs": [],
   "source": [
    "import pymongo\n",
    "from pymongo import MongoClient\n",
    "import pandas as pd"
   ]
  },
  {
   "cell_type": "code",
   "execution_count": 141,
   "metadata": {},
   "outputs": [],
   "source": [
    "client = MongoClient('localhost', 27017)\n",
    "client\n",
    "db = client.example\n",
    "#collection = db.music"
   ]
  },
  {
   "cell_type": "code",
   "execution_count": 142,
   "metadata": {},
   "outputs": [
    {
     "data": {
      "text/html": [
       "<div>\n",
       "<style scoped>\n",
       "    .dataframe tbody tr th:only-of-type {\n",
       "        vertical-align: middle;\n",
       "    }\n",
       "\n",
       "    .dataframe tbody tr th {\n",
       "        vertical-align: top;\n",
       "    }\n",
       "\n",
       "    .dataframe thead th {\n",
       "        text-align: right;\n",
       "    }\n",
       "</style>\n",
       "<table border=\"1\" class=\"dataframe\">\n",
       "  <thead>\n",
       "    <tr style=\"text-align: right;\">\n",
       "      <th></th>\n",
       "      <th>Creator_ID</th>\n",
       "      <th>Username</th>\n",
       "      <th>Country</th>\n",
       "      <th>Top_Song_ID</th>\n",
       "      <th>Top_Album_ID</th>\n",
       "      <th>Top_Artist_ID</th>\n",
       "      <th>Best_friend_ID</th>\n",
       "    </tr>\n",
       "  </thead>\n",
       "  <tbody>\n",
       "    <tr>\n",
       "      <th>0</th>\n",
       "      <td>1</td>\n",
       "      <td>Blink21</td>\n",
       "      <td>USA</td>\n",
       "      <td>9.0</td>\n",
       "      <td>2.0</td>\n",
       "      <td>8.0</td>\n",
       "      <td>3.0</td>\n",
       "    </tr>\n",
       "    <tr>\n",
       "      <th>1</th>\n",
       "      <td>2</td>\n",
       "      <td>JaxWave</td>\n",
       "      <td>USA</td>\n",
       "      <td>NaN</td>\n",
       "      <td>NaN</td>\n",
       "      <td>NaN</td>\n",
       "      <td>4.0</td>\n",
       "    </tr>\n",
       "    <tr>\n",
       "      <th>2</th>\n",
       "      <td>3</td>\n",
       "      <td>LunaPix</td>\n",
       "      <td>Canada</td>\n",
       "      <td>16.0</td>\n",
       "      <td>9.0</td>\n",
       "      <td>2.0</td>\n",
       "      <td>6.0</td>\n",
       "    </tr>\n",
       "    <tr>\n",
       "      <th>3</th>\n",
       "      <td>4</td>\n",
       "      <td>ZorbX</td>\n",
       "      <td>USA</td>\n",
       "      <td>NaN</td>\n",
       "      <td>NaN</td>\n",
       "      <td>NaN</td>\n",
       "      <td>7.0</td>\n",
       "    </tr>\n",
       "    <tr>\n",
       "      <th>4</th>\n",
       "      <td>5</td>\n",
       "      <td>FizzDart</td>\n",
       "      <td>Mexico</td>\n",
       "      <td>34.0</td>\n",
       "      <td>2.0</td>\n",
       "      <td>6.0</td>\n",
       "      <td>NaN</td>\n",
       "    </tr>\n",
       "    <tr>\n",
       "      <th>5</th>\n",
       "      <td>6</td>\n",
       "      <td>QuikFox</td>\n",
       "      <td>Canada</td>\n",
       "      <td>9.0</td>\n",
       "      <td>2.0</td>\n",
       "      <td>8.0</td>\n",
       "      <td>3.0</td>\n",
       "    </tr>\n",
       "    <tr>\n",
       "      <th>6</th>\n",
       "      <td>7</td>\n",
       "      <td>HexRyn</td>\n",
       "      <td>Sweden</td>\n",
       "      <td>19.0</td>\n",
       "      <td>NaN</td>\n",
       "      <td>1.0</td>\n",
       "      <td>8.0</td>\n",
       "    </tr>\n",
       "    <tr>\n",
       "      <th>7</th>\n",
       "      <td>8</td>\n",
       "      <td>VimJet</td>\n",
       "      <td>Ireland</td>\n",
       "      <td>1.0</td>\n",
       "      <td>1.0</td>\n",
       "      <td>1.0</td>\n",
       "      <td>2.0</td>\n",
       "    </tr>\n",
       "    <tr>\n",
       "      <th>8</th>\n",
       "      <td>9</td>\n",
       "      <td>KyroM</td>\n",
       "      <td>USA</td>\n",
       "      <td>36.0</td>\n",
       "      <td>2.0</td>\n",
       "      <td>8.0</td>\n",
       "      <td>8.0</td>\n",
       "    </tr>\n",
       "    <tr>\n",
       "      <th>9</th>\n",
       "      <td>10</td>\n",
       "      <td>WispFiz</td>\n",
       "      <td>USA</td>\n",
       "      <td>54.0</td>\n",
       "      <td>11.0</td>\n",
       "      <td>15.0</td>\n",
       "      <td>6.0</td>\n",
       "    </tr>\n",
       "  </tbody>\n",
       "</table>\n",
       "</div>"
      ],
      "text/plain": [
       "   Creator_ID  Username  Country  Top_Song_ID  Top_Album_ID  Top_Artist_ID  \\\n",
       "0           1   Blink21      USA          9.0           2.0            8.0   \n",
       "1           2   JaxWave      USA          NaN           NaN            NaN   \n",
       "2           3   LunaPix   Canada         16.0           9.0            2.0   \n",
       "3           4     ZorbX      USA          NaN           NaN            NaN   \n",
       "4           5  FizzDart   Mexico         34.0           2.0            6.0   \n",
       "5           6   QuikFox   Canada          9.0           2.0            8.0   \n",
       "6           7    HexRyn   Sweden         19.0           NaN            1.0   \n",
       "7           8    VimJet  Ireland          1.0           1.0            1.0   \n",
       "8           9     KyroM      USA         36.0           2.0            8.0   \n",
       "9          10   WispFiz      USA         54.0          11.0           15.0   \n",
       "\n",
       "   Best_friend_ID  \n",
       "0             3.0  \n",
       "1             4.0  \n",
       "2             6.0  \n",
       "3             7.0  \n",
       "4             NaN  \n",
       "5             3.0  \n",
       "6             8.0  \n",
       "7             2.0  \n",
       "8             8.0  \n",
       "9             6.0  "
      ]
     },
     "execution_count": 142,
     "metadata": {},
     "output_type": "execute_result"
    }
   ],
   "source": [
    "#users = pd.read_csv('users.csv')\n",
    "users"
   ]
  },
  {
   "cell_type": "code",
   "execution_count": 143,
   "metadata": {},
   "outputs": [
    {
     "name": "stdout",
     "output_type": "stream",
     "text": [
      "   Playlist_ID  Playlist_name  Creator_ID                    Description  \\\n",
      "0            1   Driving Time           1             Songs to drive to.   \n",
      "1            2            Gym           2             Songs for the gym.   \n",
      "2            3   Cooking Time           4        Songs for cooking time.   \n",
      "3            4          Happy           3  When you have had a GREAT day   \n",
      "4            5  cleaning time           6                    bops fr fr    \n",
      "\n",
      "   Popularity                                  Songs_in_playlist  \n",
      "0        1000  [Happier, Golden , Love to Dream, Yellow, Gold...  \n",
      "1        2500  [White Horse, High Hopes, Watermelon Sugar, Sh...  \n",
      "2        1200  [Two-Headed Boy, Vampire, Love Like This, All ...  \n",
      "3           0  [Enough for You, When We Were Young , Baby for...  \n",
      "4           1  [Kiss Me More, Adore You, All Too Well, Love S...  \n"
     ]
    }
   ],
   "source": [
    "merged_df = pd.merge(playlists, songs, on='Playlist_ID', how='left')\n",
    "playlist_songs = merged_df.groupby('Playlist_ID')['Title'].apply(list).reset_index()\n",
    "playlists_df = pd.merge(playlists, playlist_songs, on='Playlist_ID', how='left')\n",
    "playlists_df['Title'] = playlists_df['Title'].apply(lambda x: x if isinstance(x, list) else [])\n",
    "playlists_df = playlists_df.rename(columns={'Title': 'Songs_in_playlist'})\n",
    "print(playlists_df.head(5))"
   ]
  },
  {
   "cell_type": "code",
   "execution_count": 144,
   "metadata": {},
   "outputs": [],
   "source": [
    "users_dict = users.to_dict('records')\n",
    "users_dict\n",
    "songs_dict = songs.to_dict('records')\n",
    "albums_dict = albums.to_dict('records')\n",
    "playlists_dict = playlists_df.to_dict('records')\n",
    "artists_dict = artists.to_dict('records')"
   ]
  },
  {
   "cell_type": "code",
   "execution_count": 145,
   "metadata": {},
   "outputs": [],
   "source": [
    "users_collection = db.users\n",
    "albums_collection = db.albums\n",
    "artists_collection = db.artists\n",
    "playlists_collection = db.playlists\n",
    "songs_collection = db.songs"
   ]
  },
  {
   "cell_type": "code",
   "execution_count": 146,
   "metadata": {},
   "outputs": [
    {
     "data": {
      "text/plain": [
       "InsertManyResult([ObjectId('665636bc5bcb0c8eb3c0e45f'), ObjectId('665636bc5bcb0c8eb3c0e460'), ObjectId('665636bc5bcb0c8eb3c0e461'), ObjectId('665636bc5bcb0c8eb3c0e462'), ObjectId('665636bc5bcb0c8eb3c0e463'), ObjectId('665636bc5bcb0c8eb3c0e464'), ObjectId('665636bc5bcb0c8eb3c0e465'), ObjectId('665636bc5bcb0c8eb3c0e466'), ObjectId('665636bc5bcb0c8eb3c0e467'), ObjectId('665636bc5bcb0c8eb3c0e468')], acknowledged=True)"
      ]
     },
     "execution_count": 146,
     "metadata": {},
     "output_type": "execute_result"
    }
   ],
   "source": [
    "users_collection.insert_many(users_dict)\n",
    "albums_collection.insert_many(albums_dict)\n",
    "songs_collection.insert_many(songs_dict)\n",
    "artists_collection.insert_many(artists_dict)\n",
    "playlists_collection.insert_many(playlists_dict)"
   ]
  },
  {
   "cell_type": "code",
   "execution_count": 121,
   "metadata": {},
   "outputs": [
    {
     "data": {
      "text/plain": [
       "DeleteResult({'n': 0, 'ok': 1.0}, acknowledged=True)"
      ]
     },
     "execution_count": 121,
     "metadata": {},
     "output_type": "execute_result"
    }
   ],
   "source": [
    "### dont run until the end\n",
    "\n",
    "users_collection.delete_many({})\n",
    "songs_collection.delete_many({})\n",
    "albums_collection.delete_many({})\n",
    "artists_collection.delete_many({})\n",
    "playlists_collection.delete_many({})"
   ]
  },
  {
   "cell_type": "code",
   "execution_count": null,
   "metadata": {},
   "outputs": [],
   "source": []
  }
 ],
 "metadata": {
  "colab": {
   "provenance": []
  },
  "kernelspec": {
   "display_name": "Python 3 (ipykernel)",
   "language": "python",
   "name": "python3"
  },
  "language_info": {
   "codemirror_mode": {
    "name": "ipython",
    "version": 3
   },
   "file_extension": ".py",
   "mimetype": "text/x-python",
   "name": "python",
   "nbconvert_exporter": "python",
   "pygments_lexer": "ipython3",
   "version": "3.9.12"
  }
 },
 "nbformat": 4,
 "nbformat_minor": 1
}

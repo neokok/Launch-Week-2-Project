{
 "cells": [
  {
   "cell_type": "markdown",
   "metadata": {
    "id": "KJyao4Hj3V_f"
   },
   "source": [
    "## THIS NOTEBOOK WILL NOT WORK IN GOOGLE COLAB!!! IT MUST BE RUN LOCALLY!!! You can download it as an .ipynb file and open that with Jupyter notebook/labs"
   ]
  },
  {
   "cell_type": "markdown",
   "metadata": {},
   "source": [
    "# SQL"
   ]
  },
  {
   "cell_type": "code",
   "execution_count": 71,
   "metadata": {},
   "outputs": [],
   "source": [
    "#pip install pymysql"
   ]
  },
  {
   "cell_type": "code",
   "execution_count": 72,
   "metadata": {
    "colab": {
     "base_uri": "https://localhost:8080/",
     "height": 375
    },
    "id": "pL3MK37u3V_h",
    "outputId": "dc519631-bc91-4ea3-ca21-b1dbcf060b31"
   },
   "outputs": [],
   "source": [
    "import sqlalchemy\n",
    "import pymysql\n",
    "from sqlalchemy import create_engine\n",
    "import pandas as pd"
   ]
  },
  {
   "cell_type": "markdown",
   "metadata": {
    "id": "EXYCzm4f60Tt"
   },
   "source": [
    "If you get an error saying something like \"sqlalchemy not installed\", you should add a code cell and write `pip install sqlalchemy`. Then, rerun the above cell (you might also need to install pymysql the same way)"
   ]
  },
  {
   "cell_type": "code",
   "execution_count": 73,
   "metadata": {
    "id": "dQADRimI3V_j"
   },
   "outputs": [],
   "source": [
    "password = 'Warning//2000'\n",
    "db_name = 'music'"
   ]
  },
  {
   "cell_type": "code",
   "execution_count": 74,
   "metadata": {
    "id": "wkVFDxfq3V_j"
   },
   "outputs": [],
   "source": [
    "conn = pymysql.connect(host='127.0.0.1', port=3306, user='root', password=password, database=db_name)"
   ]
  },
  {
   "cell_type": "code",
   "execution_count": 75,
   "metadata": {
    "id": "8_4eHzso3V_j"
   },
   "outputs": [],
   "source": [
    "connection = create_engine(\"mysql+pymysql://root:\" + password + \"@localhost:3306/\" + db_name)"
   ]
  },
  {
   "cell_type": "code",
   "execution_count": 76,
   "metadata": {
    "colab": {
     "base_uri": "https://localhost:8080/",
     "height": 144
    },
    "id": "UUtddbLZ21do",
    "outputId": "e44ad0e7-bf11-4549-a7df-557c8b6d64b1"
   },
   "outputs": [],
   "source": [
    "songs = pd.read_csv('songs.csv')\n",
    "albums = pd.read_csv('albums.csv')\n",
    "artists = pd.read_csv('artists.csv')\n",
    "playlists = pd.read_csv('playlists.csv')\n",
    "users = pd.read_csv('users.csv')"
   ]
  },
  {
   "cell_type": "code",
   "execution_count": 77,
   "metadata": {
    "id": "5ktGrJYM28Zl"
   },
   "outputs": [],
   "source": [
    "table_name = 'songs'\n",
    "table_name1 = 'albums'\n",
    "table_name2 = 'artists'\n",
    "table_name3 = 'playlists'\n",
    "table_name4 = 'users'"
   ]
  },
  {
   "cell_type": "code",
   "execution_count": 78,
   "metadata": {
    "id": "1jna0HT821kQ"
   },
   "outputs": [
    {
     "data": {
      "text/plain": [
       "10"
      ]
     },
     "execution_count": 78,
     "metadata": {},
     "output_type": "execute_result"
    }
   ],
   "source": [
    "songs.to_sql(name=table_name, con=connection, if_exists='replace', index=False)\n",
    "albums.to_sql(name=table_name1, con=connection, if_exists='replace', index=False)\n",
    "artists.to_sql(name=table_name2, con=connection, if_exists='replace', index=False)\n",
    "playlists.to_sql(name=table_name3, con=connection, if_exists='replace', index=False)\n",
    "users.to_sql(name=table_name4, con=connection, if_exists='replace', index=False)"
   ]
  },
  {
   "cell_type": "markdown",
   "metadata": {
    "id": "aOmCA5gd5BiV"
   },
   "source": [
    "We use SQL syntax for querying. The triple quotation mark syntax allows us to write commands simiar to how we did in SQL"
   ]
  },
  {
   "cell_type": "code",
   "execution_count": 79,
   "metadata": {},
   "outputs": [],
   "source": [
    "query1 = \"\"\"\n",
    "SELECT * FROM songs\n",
    "WHERE Genre = 'Pop'\n",
    "ORDER BY Rating DESC\n",
    "LIMIT 10\n",
    "\"\"\""
   ]
  },
  {
   "cell_type": "code",
   "execution_count": 80,
   "metadata": {
    "id": "GtcaW8xg3V_n"
   },
   "outputs": [],
   "source": [
    "pop_songs = pd.read_sql(query1, con=connection)"
   ]
  },
  {
   "cell_type": "code",
   "execution_count": 81,
   "metadata": {
    "id": "swupxQK03V_o"
   },
   "outputs": [
    {
     "data": {
      "text/html": [
       "<div>\n",
       "<style scoped>\n",
       "    .dataframe tbody tr th:only-of-type {\n",
       "        vertical-align: middle;\n",
       "    }\n",
       "\n",
       "    .dataframe tbody tr th {\n",
       "        vertical-align: top;\n",
       "    }\n",
       "\n",
       "    .dataframe thead th {\n",
       "        text-align: right;\n",
       "    }\n",
       "</style>\n",
       "<table border=\"1\" class=\"dataframe\">\n",
       "  <thead>\n",
       "    <tr style=\"text-align: right;\">\n",
       "      <th></th>\n",
       "      <th>Song_ID</th>\n",
       "      <th>Title</th>\n",
       "      <th>Artist_ID</th>\n",
       "      <th>Album_ID</th>\n",
       "      <th>Playlist_ID</th>\n",
       "      <th>Genre</th>\n",
       "      <th>Rating</th>\n",
       "      <th>Duration</th>\n",
       "    </tr>\n",
       "  </thead>\n",
       "  <tbody>\n",
       "    <tr>\n",
       "      <th>0</th>\n",
       "      <td>13</td>\n",
       "      <td>I Knew You Were Trouble</td>\n",
       "      <td>7.0</td>\n",
       "      <td>3.0</td>\n",
       "      <td>9.0</td>\n",
       "      <td>Pop</td>\n",
       "      <td>10</td>\n",
       "      <td>4:06</td>\n",
       "    </tr>\n",
       "    <tr>\n",
       "      <th>1</th>\n",
       "      <td>12</td>\n",
       "      <td>When We Were Young</td>\n",
       "      <td>NaN</td>\n",
       "      <td>NaN</td>\n",
       "      <td>4.0</td>\n",
       "      <td>Pop</td>\n",
       "      <td>10</td>\n",
       "      <td>4:30</td>\n",
       "    </tr>\n",
       "    <tr>\n",
       "      <th>2</th>\n",
       "      <td>3</td>\n",
       "      <td>Deja Vu</td>\n",
       "      <td>1.0</td>\n",
       "      <td>1.0</td>\n",
       "      <td>7.0</td>\n",
       "      <td>Pop</td>\n",
       "      <td>10</td>\n",
       "      <td>4:01</td>\n",
       "    </tr>\n",
       "    <tr>\n",
       "      <th>3</th>\n",
       "      <td>19</td>\n",
       "      <td>Vampire</td>\n",
       "      <td>1.0</td>\n",
       "      <td>NaN</td>\n",
       "      <td>3.0</td>\n",
       "      <td>Pop</td>\n",
       "      <td>10</td>\n",
       "      <td>3:53</td>\n",
       "    </tr>\n",
       "    <tr>\n",
       "      <th>4</th>\n",
       "      <td>41</td>\n",
       "      <td>Love Story</td>\n",
       "      <td>7.0</td>\n",
       "      <td>3.0</td>\n",
       "      <td>5.0</td>\n",
       "      <td>Pop</td>\n",
       "      <td>9</td>\n",
       "      <td>3:55</td>\n",
       "    </tr>\n",
       "    <tr>\n",
       "      <th>5</th>\n",
       "      <td>54</td>\n",
       "      <td>Stuck In The Middle</td>\n",
       "      <td>15.0</td>\n",
       "      <td>11.0</td>\n",
       "      <td>NaN</td>\n",
       "      <td>Pop</td>\n",
       "      <td>9</td>\n",
       "      <td>3:16</td>\n",
       "    </tr>\n",
       "    <tr>\n",
       "      <th>6</th>\n",
       "      <td>42</td>\n",
       "      <td>Blank Space</td>\n",
       "      <td>7.0</td>\n",
       "      <td>NaN</td>\n",
       "      <td>8.0</td>\n",
       "      <td>Pop</td>\n",
       "      <td>9</td>\n",
       "      <td>3:51</td>\n",
       "    </tr>\n",
       "    <tr>\n",
       "      <th>7</th>\n",
       "      <td>36</td>\n",
       "      <td>Watermelon Sugar</td>\n",
       "      <td>8.0</td>\n",
       "      <td>2.0</td>\n",
       "      <td>2.0</td>\n",
       "      <td>Pop</td>\n",
       "      <td>9</td>\n",
       "      <td>2:54</td>\n",
       "    </tr>\n",
       "    <tr>\n",
       "      <th>8</th>\n",
       "      <td>57</td>\n",
       "      <td>Spinnin</td>\n",
       "      <td>16.0</td>\n",
       "      <td>12.0</td>\n",
       "      <td>NaN</td>\n",
       "      <td>Pop</td>\n",
       "      <td>9</td>\n",
       "      <td>1:50</td>\n",
       "    </tr>\n",
       "    <tr>\n",
       "      <th>9</th>\n",
       "      <td>14</td>\n",
       "      <td>All Too Well</td>\n",
       "      <td>7.0</td>\n",
       "      <td>3.0</td>\n",
       "      <td>5.0</td>\n",
       "      <td>Pop</td>\n",
       "      <td>9</td>\n",
       "      <td>10:21</td>\n",
       "    </tr>\n",
       "  </tbody>\n",
       "</table>\n",
       "</div>"
      ],
      "text/plain": [
       "   Song_ID                    Title  Artist_ID  Album_ID  Playlist_ID Genre  \\\n",
       "0       13  I Knew You Were Trouble        7.0       3.0          9.0   Pop   \n",
       "1       12      When We Were Young         NaN       NaN          4.0   Pop   \n",
       "2        3                  Deja Vu        1.0       1.0          7.0   Pop   \n",
       "3       19                  Vampire        1.0       NaN          3.0   Pop   \n",
       "4       41               Love Story        7.0       3.0          5.0   Pop   \n",
       "5       54      Stuck In The Middle       15.0      11.0          NaN   Pop   \n",
       "6       42              Blank Space        7.0       NaN          8.0   Pop   \n",
       "7       36         Watermelon Sugar        8.0       2.0          2.0   Pop   \n",
       "8       57                  Spinnin       16.0      12.0          NaN   Pop   \n",
       "9       14             All Too Well        7.0       3.0          5.0   Pop   \n",
       "\n",
       "   Rating Duration  \n",
       "0      10     4:06  \n",
       "1      10     4:30  \n",
       "2      10     4:01  \n",
       "3      10     3:53  \n",
       "4       9     3:55  \n",
       "5       9     3:16  \n",
       "6       9     3:51  \n",
       "7       9     2:54  \n",
       "8       9     1:50  \n",
       "9       9    10:21  "
      ]
     },
     "execution_count": 81,
     "metadata": {},
     "output_type": "execute_result"
    }
   ],
   "source": [
    "pop_songs"
   ]
  },
  {
   "cell_type": "code",
   "execution_count": 82,
   "metadata": {
    "colab": {
     "base_uri": "https://localhost:8080/",
     "height": 166
    },
    "id": "fuG3zDfq3V_p",
    "outputId": "6c5de75f-f338-4942-e88c-5ad718b359d7"
   },
   "outputs": [],
   "source": [
    "query2 = \"\"\"\n",
    "  SELECT Genre, AVG(Rating)\n",
    "  FROM songs\n",
    "  GROUP BY Genre\n",
    "\"\"\""
   ]
  },
  {
   "cell_type": "code",
   "execution_count": 83,
   "metadata": {
    "id": "aSNSGVG53V_q"
   },
   "outputs": [
    {
     "data": {
      "text/html": [
       "<div>\n",
       "<style scoped>\n",
       "    .dataframe tbody tr th:only-of-type {\n",
       "        vertical-align: middle;\n",
       "    }\n",
       "\n",
       "    .dataframe tbody tr th {\n",
       "        vertical-align: top;\n",
       "    }\n",
       "\n",
       "    .dataframe thead th {\n",
       "        text-align: right;\n",
       "    }\n",
       "</style>\n",
       "<table border=\"1\" class=\"dataframe\">\n",
       "  <thead>\n",
       "    <tr style=\"text-align: right;\">\n",
       "      <th></th>\n",
       "      <th>Genre</th>\n",
       "      <th>AVG(Rating)</th>\n",
       "    </tr>\n",
       "  </thead>\n",
       "  <tbody>\n",
       "    <tr>\n",
       "      <th>0</th>\n",
       "      <td>Pop</td>\n",
       "      <td>7.8056</td>\n",
       "    </tr>\n",
       "    <tr>\n",
       "      <th>1</th>\n",
       "      <td>Rock</td>\n",
       "      <td>8.0000</td>\n",
       "    </tr>\n",
       "    <tr>\n",
       "      <th>2</th>\n",
       "      <td>Indie</td>\n",
       "      <td>6.8462</td>\n",
       "    </tr>\n",
       "    <tr>\n",
       "      <th>3</th>\n",
       "      <td>Bollywood</td>\n",
       "      <td>9.0000</td>\n",
       "    </tr>\n",
       "    <tr>\n",
       "      <th>4</th>\n",
       "      <td>Alternative Rock</td>\n",
       "      <td>8.0000</td>\n",
       "    </tr>\n",
       "  </tbody>\n",
       "</table>\n",
       "</div>"
      ],
      "text/plain": [
       "              Genre  AVG(Rating)\n",
       "0               Pop       7.8056\n",
       "1              Rock       8.0000\n",
       "2             Indie       6.8462\n",
       "3         Bollywood       9.0000\n",
       "4  Alternative Rock       8.0000"
      ]
     },
     "execution_count": 83,
     "metadata": {},
     "output_type": "execute_result"
    }
   ],
   "source": [
    "genre_ratings = pd.read_sql(query2, con=connection)\n",
    "genre_ratings"
   ]
  },
  {
   "cell_type": "markdown",
   "metadata": {
    "id": "Qn9YhnFN485y"
   },
   "source": [
    "We can merge in PyMySQL just like in regular SQL"
   ]
  },
  {
   "cell_type": "code",
   "execution_count": 92,
   "metadata": {},
   "outputs": [],
   "source": [
    "query3 = \"\"\"\n",
    "  SELECT users.Username, users.Country, songs.Title AS Fav_Song, Artist_Country, songs.Rating\n",
    "  FROM users\n",
    "  LEFT JOIN songs ON users.Top_Song_ID = songs.Song_ID\n",
    "  LEFT JOIN artists ON songs.Artist_ID = artists.Artist_ID\n",
    "  WHERE users.Country <> artists.Artist_Country\n",
    "  ORDER BY songs.Rating DESC\n",
    "\"\"\""
   ]
  },
  {
   "cell_type": "code",
   "execution_count": 93,
   "metadata": {},
   "outputs": [
    {
     "data": {
      "text/html": [
       "<div>\n",
       "<style scoped>\n",
       "    .dataframe tbody tr th:only-of-type {\n",
       "        vertical-align: middle;\n",
       "    }\n",
       "\n",
       "    .dataframe tbody tr th {\n",
       "        vertical-align: top;\n",
       "    }\n",
       "\n",
       "    .dataframe thead th {\n",
       "        text-align: right;\n",
       "    }\n",
       "</style>\n",
       "<table border=\"1\" class=\"dataframe\">\n",
       "  <thead>\n",
       "    <tr style=\"text-align: right;\">\n",
       "      <th></th>\n",
       "      <th>Username</th>\n",
       "      <th>Country</th>\n",
       "      <th>Fav_Song</th>\n",
       "      <th>Artist_Country</th>\n",
       "      <th>Rating</th>\n",
       "    </tr>\n",
       "  </thead>\n",
       "  <tbody>\n",
       "    <tr>\n",
       "      <th>0</th>\n",
       "      <td>HexRyn</td>\n",
       "      <td>Sweden</td>\n",
       "      <td>Vampire</td>\n",
       "      <td>USA</td>\n",
       "      <td>10</td>\n",
       "    </tr>\n",
       "    <tr>\n",
       "      <th>1</th>\n",
       "      <td>KyroM</td>\n",
       "      <td>USA</td>\n",
       "      <td>Watermelon Sugar</td>\n",
       "      <td>UK</td>\n",
       "      <td>9</td>\n",
       "    </tr>\n",
       "    <tr>\n",
       "      <th>2</th>\n",
       "      <td>VimJet</td>\n",
       "      <td>Ireland</td>\n",
       "      <td>Happier</td>\n",
       "      <td>USA</td>\n",
       "      <td>7</td>\n",
       "    </tr>\n",
       "    <tr>\n",
       "      <th>3</th>\n",
       "      <td>FizzDart</td>\n",
       "      <td>Mexico</td>\n",
       "      <td>My Worst Enemy</td>\n",
       "      <td>USA</td>\n",
       "      <td>7</td>\n",
       "    </tr>\n",
       "    <tr>\n",
       "      <th>4</th>\n",
       "      <td>Blink21</td>\n",
       "      <td>USA</td>\n",
       "      <td>Golden</td>\n",
       "      <td>UK</td>\n",
       "      <td>7</td>\n",
       "    </tr>\n",
       "    <tr>\n",
       "      <th>5</th>\n",
       "      <td>QuikFox</td>\n",
       "      <td>Canada</td>\n",
       "      <td>Golden</td>\n",
       "      <td>UK</td>\n",
       "      <td>7</td>\n",
       "    </tr>\n",
       "    <tr>\n",
       "      <th>6</th>\n",
       "      <td>LunaPix</td>\n",
       "      <td>Canada</td>\n",
       "      <td>Two-Headed Boy</td>\n",
       "      <td>USA</td>\n",
       "      <td>4</td>\n",
       "    </tr>\n",
       "  </tbody>\n",
       "</table>\n",
       "</div>"
      ],
      "text/plain": [
       "   Username  Country          Fav_Song Artist_Country  Rating\n",
       "0    HexRyn   Sweden           Vampire            USA      10\n",
       "1     KyroM      USA  Watermelon Sugar             UK       9\n",
       "2    VimJet  Ireland           Happier            USA       7\n",
       "3  FizzDart   Mexico    My Worst Enemy            USA       7\n",
       "4   Blink21      USA           Golden              UK       7\n",
       "5   QuikFox   Canada           Golden              UK       7\n",
       "6   LunaPix   Canada    Two-Headed Boy            USA       4"
      ]
     },
     "execution_count": 93,
     "metadata": {},
     "output_type": "execute_result"
    }
   ],
   "source": [
    "countries = pd.read_sql(query3, con=connection)\n",
    "countries"
   ]
  },
  {
   "cell_type": "code",
   "execution_count": 86,
   "metadata": {},
   "outputs": [],
   "source": [
    "query4 = \"\"\"\n",
    "SELECT Album_title, Album_release_date \n",
    "FROM albums\n",
    "WHERE STR_TO_DATE(Album_release_date, '%%m/%%d/%%Y') < STR_TO_DATE('02/02/2010', '%%m/%%d/%%Y');\n",
    "\"\"\""
   ]
  },
  {
   "cell_type": "code",
   "execution_count": 89,
   "metadata": {},
   "outputs": [
    {
     "data": {
      "text/html": [
       "<div>\n",
       "<style scoped>\n",
       "    .dataframe tbody tr th:only-of-type {\n",
       "        vertical-align: middle;\n",
       "    }\n",
       "\n",
       "    .dataframe tbody tr th {\n",
       "        vertical-align: top;\n",
       "    }\n",
       "\n",
       "    .dataframe thead th {\n",
       "        text-align: right;\n",
       "    }\n",
       "</style>\n",
       "<table border=\"1\" class=\"dataframe\">\n",
       "  <thead>\n",
       "    <tr style=\"text-align: right;\">\n",
       "      <th></th>\n",
       "      <th>Album_title</th>\n",
       "      <th>Album_release_date</th>\n",
       "    </tr>\n",
       "  </thead>\n",
       "  <tbody>\n",
       "    <tr>\n",
       "      <th>0</th>\n",
       "      <td>Parachutes</td>\n",
       "      <td>7/10/2000</td>\n",
       "    </tr>\n",
       "    <tr>\n",
       "      <th>1</th>\n",
       "      <td>American Idiot</td>\n",
       "      <td>7/25/2004</td>\n",
       "    </tr>\n",
       "    <tr>\n",
       "      <th>2</th>\n",
       "      <td>In the Areoplane Over the Sea</td>\n",
       "      <td>2/10/1998</td>\n",
       "    </tr>\n",
       "  </tbody>\n",
       "</table>\n",
       "</div>"
      ],
      "text/plain": [
       "                     Album_title Album_release_date\n",
       "0                     Parachutes          7/10/2000\n",
       "1                 American Idiot          7/25/2004\n",
       "2  In the Areoplane Over the Sea          2/10/1998"
      ]
     },
     "execution_count": 89,
     "metadata": {},
     "output_type": "execute_result"
    }
   ],
   "source": [
    "new = pd.read_sql(query4, con=connection)\n",
    "new"
   ]
  },
  {
   "cell_type": "markdown",
   "metadata": {},
   "source": [
    "# MONGO"
   ]
  },
  {
   "cell_type": "code",
   "execution_count": 112,
   "metadata": {},
   "outputs": [],
   "source": [
    "import pymongo\n",
    "from pymongo import MongoClient\n",
    "import pandas as pd"
   ]
  },
  {
   "cell_type": "code",
   "execution_count": 113,
   "metadata": {},
   "outputs": [],
   "source": [
    "client = MongoClient('localhost', 27017)\n",
    "client\n",
    "db = client.example"
   ]
  },
  {
   "cell_type": "code",
   "execution_count": 114,
   "metadata": {},
   "outputs": [],
   "source": [
    "#users"
   ]
  },
  {
   "cell_type": "code",
   "execution_count": 115,
   "metadata": {},
   "outputs": [
    {
     "name": "stdout",
     "output_type": "stream",
     "text": [
      "   Playlist_ID  Playlist_name  Creator_ID                    Description  \\\n",
      "0            1   Driving Time           1             Songs to drive to.   \n",
      "1            2            Gym           2             Songs for the gym.   \n",
      "2            3   Cooking Time           4        Songs for cooking time.   \n",
      "3            4          Happy           3  When you have had a GREAT day   \n",
      "4            5  cleaning time           6                    bops fr fr    \n",
      "\n",
      "   Popularity                                  Songs_in_playlist  \n",
      "0        1000  [Happier, Golden , Love to Dream, Yellow, Gold...  \n",
      "1        2500  [White Horse, High Hopes, Watermelon Sugar, Sh...  \n",
      "2        1200  [Two-Headed Boy, Vampire, Love Like This, All ...  \n",
      "3           0  [Enough for You, When We Were Young , Baby for...  \n",
      "4           1  [Kiss Me More, Adore You, All Too Well, Love S...  \n"
     ]
    }
   ],
   "source": [
    "merged_df = pd.merge(playlists, songs, on='Playlist_ID', how='left')\n",
    "playlist_songs = merged_df.groupby('Playlist_ID')['Title'].apply(list).reset_index()\n",
    "playlists_df = pd.merge(playlists, playlist_songs, on='Playlist_ID', how='left')\n",
    "playlists_df['Title'] = playlists_df['Title'].apply(lambda x: x if isinstance(x, list) else [])\n",
    "playlists_df = playlists_df.rename(columns={'Title': 'Songs_in_playlist'})\n",
    "print(playlists_df.head(5))"
   ]
  },
  {
   "cell_type": "code",
   "execution_count": 116,
   "metadata": {},
   "outputs": [],
   "source": [
    "users_dict = users.to_dict('records')\n",
    "users_dict\n",
    "songs_dict = songs.to_dict('records')\n",
    "albums_dict = albums.to_dict('records')\n",
    "playlists_dict = playlists_df.to_dict('records')\n",
    "artists_dict = artists.to_dict('records')"
   ]
  },
  {
   "cell_type": "code",
   "execution_count": 117,
   "metadata": {},
   "outputs": [],
   "source": [
    "users_collection = db.users\n",
    "albums_collection = db.albums\n",
    "artists_collection = db.artists\n",
    "playlists_collection = db.playlists\n",
    "songs_collection = db.songs"
   ]
  },
  {
   "cell_type": "code",
   "execution_count": 118,
   "metadata": {},
   "outputs": [
    {
     "data": {
      "text/plain": [
       "InsertManyResult([ObjectId('665734d4c72e83c5aebaedfc'), ObjectId('665734d4c72e83c5aebaedfd'), ObjectId('665734d4c72e83c5aebaedfe'), ObjectId('665734d4c72e83c5aebaedff'), ObjectId('665734d4c72e83c5aebaee00'), ObjectId('665734d4c72e83c5aebaee01'), ObjectId('665734d4c72e83c5aebaee02'), ObjectId('665734d4c72e83c5aebaee03'), ObjectId('665734d4c72e83c5aebaee04'), ObjectId('665734d4c72e83c5aebaee05')], acknowledged=True)"
      ]
     },
     "execution_count": 118,
     "metadata": {},
     "output_type": "execute_result"
    }
   ],
   "source": [
    "users_collection.insert_many(users_dict)\n",
    "albums_collection.insert_many(albums_dict)\n",
    "songs_collection.insert_many(songs_dict)\n",
    "artists_collection.insert_many(artists_dict)\n",
    "playlists_collection.insert_many(playlists_dict)"
   ]
  },
  {
   "cell_type": "code",
   "execution_count": 174,
   "metadata": {},
   "outputs": [
    {
     "name": "stdout",
     "output_type": "stream",
     "text": [
      "Sample user document: {'_id': ObjectId('665734d4c72e83c5aebaed9c'), 'Creator_ID': 1, 'Username': 'Blink21', 'Country': 'USA', 'Top_Song_ID': 9.0, 'Top_Album_ID': 2.0, 'Top_Artist_ID': 8.0, 'Best_friend_ID': 3.0}\n"
     ]
    }
   ],
   "source": [
    "### queries\n",
    "print(\"Sample user document:\", users_collection.find_one())"
   ]
  },
  {
   "cell_type": "code",
   "execution_count": 184,
   "metadata": {},
   "outputs": [
    {
     "data": {
      "text/html": [
       "<div>\n",
       "<style scoped>\n",
       "    .dataframe tbody tr th:only-of-type {\n",
       "        vertical-align: middle;\n",
       "    }\n",
       "\n",
       "    .dataframe tbody tr th {\n",
       "        vertical-align: top;\n",
       "    }\n",
       "\n",
       "    .dataframe thead th {\n",
       "        text-align: right;\n",
       "    }\n",
       "</style>\n",
       "<table border=\"1\" class=\"dataframe\">\n",
       "  <thead>\n",
       "    <tr style=\"text-align: right;\">\n",
       "      <th></th>\n",
       "      <th>_id</th>\n",
       "      <th>average_rating</th>\n",
       "    </tr>\n",
       "  </thead>\n",
       "  <tbody>\n",
       "    <tr>\n",
       "      <th>0</th>\n",
       "      <td>Bollywood</td>\n",
       "      <td>9.000000</td>\n",
       "    </tr>\n",
       "    <tr>\n",
       "      <th>1</th>\n",
       "      <td>Pop</td>\n",
       "      <td>7.805556</td>\n",
       "    </tr>\n",
       "    <tr>\n",
       "      <th>2</th>\n",
       "      <td>Rock</td>\n",
       "      <td>8.000000</td>\n",
       "    </tr>\n",
       "    <tr>\n",
       "      <th>3</th>\n",
       "      <td>Indie</td>\n",
       "      <td>6.846154</td>\n",
       "    </tr>\n",
       "    <tr>\n",
       "      <th>4</th>\n",
       "      <td>Alternative Rock</td>\n",
       "      <td>8.000000</td>\n",
       "    </tr>\n",
       "  </tbody>\n",
       "</table>\n",
       "</div>"
      ],
      "text/plain": [
       "                _id  average_rating\n",
       "0         Bollywood        9.000000\n",
       "1               Pop        7.805556\n",
       "2              Rock        8.000000\n",
       "3             Indie        6.846154\n",
       "4  Alternative Rock        8.000000"
      ]
     },
     "execution_count": 184,
     "metadata": {},
     "output_type": "execute_result"
    }
   ],
   "source": [
    "pipeline = [\n",
    "    {\n",
    "        \"$group\": {\n",
    "            \"_id\": \"$Genre\",\n",
    "            \"average_rating\": {\"$avg\": \"$Rating\"}\n",
    "        }\n",
    "    }\n",
    "]\n",
    "  \n",
    "    \n",
    "results = songs_collection.aggregate(pipeline)\n",
    "df = pd.DataFrame(list(results))\n",
    "df"
   ]
  },
  {
   "cell_type": "code",
   "execution_count": 111,
   "metadata": {},
   "outputs": [],
   "source": [
    "### dont run until the end\n",
    "\n",
    "users_collection.delete_many({})\n",
    "songs_collection.delete_many({})\n",
    "albums_collection.delete_many({})\n",
    "artists_collection.delete_many({})\n",
    "playlists_collection.delete_many({})\n",
    "db.users_collection.drop()\n",
    "db.songs_collection.drop()\n",
    "db.albums_collection.drop()\n",
    "db.artists_collection.drop()\n",
    "db.playlists_collection.drop()"
   ]
  },
  {
   "cell_type": "code",
   "execution_count": null,
   "metadata": {},
   "outputs": [],
   "source": []
  }
 ],
 "metadata": {
  "colab": {
   "provenance": []
  },
  "kernelspec": {
   "display_name": "Python 3 (ipykernel)",
   "language": "python",
   "name": "python3"
  },
  "language_info": {
   "codemirror_mode": {
    "name": "ipython",
    "version": 3
   },
   "file_extension": ".py",
   "mimetype": "text/x-python",
   "name": "python",
   "nbconvert_exporter": "python",
   "pygments_lexer": "ipython3",
   "version": "3.9.12"
  }
 },
 "nbformat": 4,
 "nbformat_minor": 1
}
